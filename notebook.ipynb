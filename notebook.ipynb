{
 "cells": [
  {
   "cell_type": "code",
   "execution_count": 4,
   "id": "b0d8e6ff",
   "metadata": {},
   "outputs": [
    {
     "name": "stdout",
     "output_type": "stream",
     "text": [
      "Collecting git+https://github.com/tsteelematc/nbdev-playing.git\n",
      "  Cloning https://github.com/tsteelematc/nbdev-playing.git to /private/var/folders/5f/qp2z0k4x4qz8yphvbwjy6kdc0000gq/T/pip-req-build-eh25tnjx\n",
      "  Running command git clone --filter=blob:none --quiet https://github.com/tsteelematc/nbdev-playing.git /private/var/folders/5f/qp2z0k4x4qz8yphvbwjy6kdc0000gq/T/pip-req-build-eh25tnjx\n",
      "  Resolved https://github.com/tsteelematc/nbdev-playing.git to commit 3f6b71615cbc27acf4fd2810504611615b562b7a\n",
      "  Installing build dependencies ... \u001b[?25ldone\n",
      "\u001b[?25h  Getting requirements to build wheel ... \u001b[?25ldone\n",
      "\u001b[?25h  Preparing metadata (pyproject.toml) ... \u001b[?25ldone\n",
      "\u001b[?25hBuilding wheels for collected packages: nbdev-playing\n",
      "  Building wheel for nbdev-playing (pyproject.toml) ... \u001b[?25ldone\n",
      "\u001b[?25h  Created wheel for nbdev-playing: filename=nbdev_playing-0.0.1-py3-none-any.whl size=7295 sha256=d6991e58c9f6273c79d794d0c70d3179895df0e32c2275821bfdea309b71a272\n",
      "  Stored in directory: /private/var/folders/5f/qp2z0k4x4qz8yphvbwjy6kdc0000gq/T/pip-ephem-wheel-cache-h70oirr3/wheels/0d/87/72/5817d0a996172bc3c16bcf3ddabafefab797e4935792cb3799\n",
      "Successfully built nbdev-playing\n",
      "Installing collected packages: nbdev-playing\n",
      "Successfully installed nbdev-playing-0.0.1\n",
      "Note: you may need to restart the kernel to use updated packages.\n"
     ]
    }
   ],
   "source": [
    "pip install git+https://github.com/tsteelematc/nbdev-playing.git"
   ]
  },
  {
   "cell_type": "code",
   "execution_count": 5,
   "id": "23070739",
   "metadata": {},
   "outputs": [
    {
     "data": {
      "text/plain": [
       "'Hello foo'"
      ]
     },
     "execution_count": 5,
     "metadata": {},
     "output_type": "execute_result"
    }
   ],
   "source": [
    "from nbdev_playing.core import say_hello\n",
    "\n",
    "say_hello('foo')"
   ]
  },
  {
   "cell_type": "code",
   "execution_count": 1,
   "id": "a37bc2b5",
   "metadata": {},
   "outputs": [
    {
     "name": "stdout",
     "output_type": "stream",
     "text": [
      "Package                 Version\n",
      "----------------------- -----------\n",
      "appnope                 0.1.4\n",
      "asttokens               3.0.0\n",
      "comm                    0.2.3\n",
      "debugpy                 1.8.17\n",
      "decorator               5.2.1\n",
      "executing               2.2.1\n",
      "ipykernel               7.0.1\n",
      "ipython                 9.6.0\n",
      "ipython_pygments_lexers 1.1.1\n",
      "jedi                    0.19.2\n",
      "jupyter_client          8.6.3\n",
      "jupyter_core            5.9.1\n",
      "matplotlib-inline       0.2.1\n",
      "nbdev-playing           0.0.1\n",
      "nest-asyncio            1.6.0\n",
      "packaging               25.0\n",
      "parso                   0.8.5\n",
      "pexpect                 4.9.0\n",
      "pip                     25.3\n",
      "platformdirs            4.5.0\n",
      "prompt_toolkit          3.0.52\n",
      "psutil                  7.1.2\n",
      "ptyprocess              0.7.0\n",
      "pure_eval               0.2.3\n",
      "Pygments                2.19.2\n",
      "python-dateutil         2.9.0.post0\n",
      "pyzmq                   27.1.0\n",
      "setuptools              80.9.0\n",
      "six                     1.17.0\n",
      "stack-data              0.6.3\n",
      "tornado                 6.5.2\n",
      "traitlets               5.14.3\n",
      "typing_extensions       4.15.0\n",
      "wcwidth                 0.2.14\n",
      "wheel                   0.45.1\n",
      "Note: you may need to restart the kernel to use updated packages.\n"
     ]
    }
   ],
   "source": [
    "pip list"
   ]
  },
  {
   "cell_type": "code",
   "execution_count": 2,
   "id": "bc73f13f",
   "metadata": {},
   "outputs": [
    {
     "name": "stdout",
     "output_type": "stream",
     "text": [
      "Found existing installation: nbdev-playing 0.0.1\n",
      "Uninstalling nbdev-playing-0.0.1:\n",
      "  Successfully uninstalled nbdev-playing-0.0.1\n",
      "Note: you may need to restart the kernel to use updated packages.\n"
     ]
    }
   ],
   "source": [
    "pip uninstall nbdev-playing -y"
   ]
  }
 ],
 "metadata": {
  "kernelspec": {
   "display_name": ".venv (3.11.4)",
   "language": "python",
   "name": "python3"
  },
  "language_info": {
   "codemirror_mode": {
    "name": "ipython",
    "version": 3
   },
   "file_extension": ".py",
   "mimetype": "text/x-python",
   "name": "python",
   "nbconvert_exporter": "python",
   "pygments_lexer": "ipython3",
   "version": "3.11.4"
  }
 },
 "nbformat": 4,
 "nbformat_minor": 5
}
